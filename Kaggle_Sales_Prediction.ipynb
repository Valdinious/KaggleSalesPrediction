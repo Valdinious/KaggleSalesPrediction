{
  "nbformat": 4,
  "nbformat_minor": 0,
  "metadata": {
    "colab": {
      "name": "Kaggle Sales Prediction.ipynb",
      "provenance": [],
      "authorship_tag": "ABX9TyO3vbsRBm7EsuH7Q8uvpSuH",
      "include_colab_link": true
    },
    "kernelspec": {
      "name": "python3",
      "display_name": "Python 3"
    },
    "accelerator": "GPU"
  },
  "cells": [
    {
      "cell_type": "markdown",
      "metadata": {
        "id": "view-in-github",
        "colab_type": "text"
      },
      "source": [
        "<a href=\"https://colab.research.google.com/github/ValentinKahn/KaggleSalesPrediction/blob/master/Kaggle_Sales_Prediction.ipynb\" target=\"_parent\"><img src=\"https://colab.research.google.com/assets/colab-badge.svg\" alt=\"Open In Colab\"/></a>"
      ]
    },
    {
      "cell_type": "code",
      "metadata": {
        "id": "3JgT8oCXkQTI"
      },
      "source": [
        "import io\n",
        "import pandas as pd\n",
        "\n",
        "df_itemcat = pd.read_csv('https://raw.githubusercontent.com/ValentinKahn/KaggleSalesPrediction/main/item_categories.csv')\n",
        "df_item = pd.read_csv('https://raw.githubusercontent.com/ValentinKahn/KaggleSalesPrediction/main/items.csv')\n",
        "df_train = pd.read_csv('https://raw.githubusercontent.com/ValentinKahn/KaggleSalesPrediction/main/sales_train.csv')\n",
        "df_sample = pd.read_csv('https://raw.githubusercontent.com/ValentinKahn/KaggleSalesPrediction/main/sample_submission.csv')\n",
        "df_shops = pd.read_csv('https://raw.githubusercontent.com/ValentinKahn/KaggleSalesPrediction/main/shops.csv')\n",
        "df_test = pd.read_csv('https://raw.githubusercontent.com/ValentinKahn/KaggleSalesPrediction/main/test.csv')"
      ],
      "execution_count": 92,
      "outputs": []
    },
    {
      "cell_type": "code",
      "metadata": {
        "id": "Anlx9Rf_rJRQ"
      },
      "source": [
        "df_train.insert(0,'ID',df_train.index)\n",
        "df_item = df_item.join(df_itemcat.set_index('item_category_id'), on='item_category_id')\n",
        "df_train = df_train.join(df_shops.set_index('shop_id'), on='shop_id')\n",
        "df_train = df_train.join(df_item.set_index('item_id'), on='item_id')"
      ],
      "execution_count": 93,
      "outputs": []
    },
    {
      "cell_type": "code",
      "metadata": {
        "id": "Bt9755vEtB8v"
      },
      "source": [
        "import numpy as np\n",
        "median = df_train.loc[df_train['item_price']<5000, 'item_price'].median()\n",
        "df_train['item_price'] = np.where(df_train['item_price'] > 5000, median,df_train['item_price'])"
      ],
      "execution_count": 94,
      "outputs": []
    },
    {
      "cell_type": "code",
      "metadata": {
        "id": "apqeza8ZVeb-"
      },
      "source": [
        "df_train['month'] = pd.DatetimeIndex(df_train['date']).month"
      ],
      "execution_count": 95,
      "outputs": []
    },
    {
      "cell_type": "code",
      "metadata": {
        "id": "ilQXEFt6PzJP"
      },
      "source": [
        "df_train = df_train.merge(df_train.groupby(['month','shop_id', 'item_id','item_price'])['item_cnt_day'].agg(['sum']), \n",
        "         left_on=['month','shop_id', 'item_id','item_price'], \n",
        "         right_index=True)"
      ],
      "execution_count": 96,
      "outputs": []
    },
    {
      "cell_type": "code",
      "metadata": {
        "id": "BPNSriEhUPOi"
      },
      "source": [
        "df_train = df_train.drop_duplicates(subset=['month','shop_id','item_id','item_price'], keep='first')"
      ],
      "execution_count": 97,
      "outputs": []
    },
    {
      "cell_type": "code",
      "metadata": {
        "id": "YYMRunDlUuzJ"
      },
      "source": [
        "df_train = df_train.drop(['date','date_block_num','shop_name','item_name','item_category_name','item_cnt_day','month'], axis = 1)"
      ],
      "execution_count": 98,
      "outputs": []
    },
    {
      "cell_type": "code",
      "metadata": {
        "id": "ZmZhDuM9YSi9"
      },
      "source": [
        "df_train['shop_id'] = df_train.shop_id.astype(float)\n",
        "df_train['item_category_id'] = df_train.item_category_id.astype(float)\n",
        "df_train['item_id'] = df_train.item_id.astype(float)"
      ],
      "execution_count": 99,
      "outputs": []
    },
    {
      "cell_type": "code",
      "metadata": {
        "id": "T8q6ZZBhZi0k",
        "outputId": "f13b344d-156b-4d36-8c5c-1280887c2ca1",
        "colab": {
          "base_uri": "https://localhost:8080/",
          "height": 194
        }
      },
      "source": [
        "from sklearn import preprocessing\n",
        "from numpy import asarray\n",
        "df_train['item_price']= preprocessing.normalize(df_train[['item_price']])\n",
        "df_train.head()"
      ],
      "execution_count": 100,
      "outputs": [
        {
          "output_type": "execute_result",
          "data": {
            "text/html": [
              "<div>\n",
              "<style scoped>\n",
              "    .dataframe tbody tr th:only-of-type {\n",
              "        vertical-align: middle;\n",
              "    }\n",
              "\n",
              "    .dataframe tbody tr th {\n",
              "        vertical-align: top;\n",
              "    }\n",
              "\n",
              "    .dataframe thead th {\n",
              "        text-align: right;\n",
              "    }\n",
              "</style>\n",
              "<table border=\"1\" class=\"dataframe\">\n",
              "  <thead>\n",
              "    <tr style=\"text-align: right;\">\n",
              "      <th></th>\n",
              "      <th>ID</th>\n",
              "      <th>shop_id</th>\n",
              "      <th>item_id</th>\n",
              "      <th>item_price</th>\n",
              "      <th>item_category_id</th>\n",
              "      <th>sum</th>\n",
              "    </tr>\n",
              "  </thead>\n",
              "  <tbody>\n",
              "    <tr>\n",
              "      <th>0</th>\n",
              "      <td>0</td>\n",
              "      <td>59.0</td>\n",
              "      <td>22154.0</td>\n",
              "      <td>1.0</td>\n",
              "      <td>37.0</td>\n",
              "      <td>1.0</td>\n",
              "    </tr>\n",
              "    <tr>\n",
              "      <th>1</th>\n",
              "      <td>1</td>\n",
              "      <td>25.0</td>\n",
              "      <td>2552.0</td>\n",
              "      <td>1.0</td>\n",
              "      <td>58.0</td>\n",
              "      <td>1.0</td>\n",
              "    </tr>\n",
              "    <tr>\n",
              "      <th>2</th>\n",
              "      <td>2</td>\n",
              "      <td>25.0</td>\n",
              "      <td>2552.0</td>\n",
              "      <td>1.0</td>\n",
              "      <td>58.0</td>\n",
              "      <td>-1.0</td>\n",
              "    </tr>\n",
              "    <tr>\n",
              "      <th>3</th>\n",
              "      <td>3</td>\n",
              "      <td>25.0</td>\n",
              "      <td>2554.0</td>\n",
              "      <td>1.0</td>\n",
              "      <td>58.0</td>\n",
              "      <td>1.0</td>\n",
              "    </tr>\n",
              "    <tr>\n",
              "      <th>4</th>\n",
              "      <td>4</td>\n",
              "      <td>25.0</td>\n",
              "      <td>2555.0</td>\n",
              "      <td>1.0</td>\n",
              "      <td>56.0</td>\n",
              "      <td>1.0</td>\n",
              "    </tr>\n",
              "  </tbody>\n",
              "</table>\n",
              "</div>"
            ],
            "text/plain": [
              "   ID  shop_id  item_id  item_price  item_category_id  sum\n",
              "0   0     59.0  22154.0         1.0              37.0  1.0\n",
              "1   1     25.0   2552.0         1.0              58.0  1.0\n",
              "2   2     25.0   2552.0         1.0              58.0 -1.0\n",
              "3   3     25.0   2554.0         1.0              58.0  1.0\n",
              "4   4     25.0   2555.0         1.0              56.0  1.0"
            ]
          },
          "metadata": {
            "tags": []
          },
          "execution_count": 100
        }
      ]
    },
    {
      "cell_type": "code",
      "metadata": {
        "id": "9yc5RF1dbAq5"
      },
      "source": [
        "from sklearn import datasets, ensemble\n",
        "from sklearn.inspection import permutation_importance\n",
        "from sklearn.metrics import mean_squared_error\n",
        "from sklearn.model_selection import train_test_split"
      ],
      "execution_count": 101,
      "outputs": []
    },
    {
      "cell_type": "code",
      "metadata": {
        "id": "RwEAep5zbG65"
      },
      "source": [
        "X = df_train.iloc[:,:5]\n",
        "y = df_train['sum']\n",
        "X_train, X_test, y_train, y_test = train_test_split(X, y, test_size=0.1, random_state=13)\n",
        "\n",
        "params = {'n_estimators': 50,\n",
        "          'max_depth': 4,\n",
        "          'min_samples_split': 5,\n",
        "          'learning_rate': 0.01,\n",
        "          'loss': 'ls'}"
      ],
      "execution_count": 106,
      "outputs": []
    },
    {
      "cell_type": "code",
      "metadata": {
        "id": "iurCcBYobcHd",
        "outputId": "243ebfcd-2a53-4acd-a3f3-55585736a4e0",
        "colab": {
          "base_uri": "https://localhost:8080/"
        }
      },
      "source": [
        "reg = ensemble.GradientBoostingRegressor(**params)\n",
        "reg.fit(X_train, y_train)\n",
        "\n",
        "mse = mean_squared_error(y_test, reg.predict(X_test))\n",
        "print(\"The mean squared error (MSE) on test set: {:.4f}\".format(mse))"
      ],
      "execution_count": 107,
      "outputs": [
        {
          "output_type": "stream",
          "text": [
            "The mean squared error (MSE) on test set: 79.6749\n"
          ],
          "name": "stdout"
        }
      ]
    },
    {
      "cell_type": "code",
      "metadata": {
        "id": "DnQCBbxEoJE2",
        "outputId": "7b6217b0-4f15-4aa2-956f-d285789e26f8",
        "colab": {
          "base_uri": "https://localhost:8080/"
        }
      },
      "source": [
        "#df_test = df_test.fillna(method='bfill')\n",
        "df_test.isna().sum()"
      ],
      "execution_count": 104,
      "outputs": [
        {
          "output_type": "execute_result",
          "data": {
            "text/plain": [
              "ID         0\n",
              "shop_id    0\n",
              "item_id    0\n",
              "dtype: int64"
            ]
          },
          "metadata": {
            "tags": []
          },
          "execution_count": 104
        }
      ]
    },
    {
      "cell_type": "code",
      "metadata": {
        "id": "GtLnzeAmnlz-",
        "outputId": "9f3f958a-7267-4ea4-f996-596b8702b9aa",
        "colab": {
          "base_uri": "https://localhost:8080/"
        }
      },
      "source": [
        "#uploading to Google Drive for further use\n",
        "!pip install -U -q PyDrive\n",
        "import scipy.sparse as sparse\n",
        "from pydrive.drive import GoogleDrive\n",
        "from pydrive.auth import GoogleAuth\n",
        "from google.colab import auth, files\n",
        "from oauth2client.client import GoogleCredentials\n",
        "model = reg\n",
        "model.fit(X_train.iloc[:,:3],y_train)\n",
        "output = model.predict(df_test).astype(float)\n",
        "df_output = pd.DataFrame()\n",
        "aux = df_test\n",
        "df_output['ID'] = aux['ID']\n",
        "df_output['item_cnt_month'] = output\n",
        "df_output[['ID', 'item_cnt_month']].to_csv('./valentin_submission.csv', index=False)\n",
        "auth.authenticate_user()\n",
        "gauth = GoogleAuth()\n",
        "gauth.credentials = GoogleCredentials.get_application_default()\n",
        "drive = GoogleDrive(gauth)\n",
        "uploaded = drive.CreateFile({'title': 'valentin_submission.csv'})\n",
        "uploaded.SetContentFile('valentin_submission.csv')\n",
        "uploaded.Upload()\n",
        "print('Uploaded file with ID {}'.format(uploaded.get('id')))"
      ],
      "execution_count": 109,
      "outputs": [
        {
          "output_type": "stream",
          "text": [
            "Uploaded file with ID 1h3e6pRqqt8BB5itRRnpoq9PToAE2DQpx\n"
          ],
          "name": "stdout"
        }
      ]
    }
  ]
}